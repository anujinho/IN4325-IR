{
 "cells": [
  {
   "cell_type": "code",
   "execution_count": 1,
   "id": "confidential-southwest",
   "metadata": {},
   "outputs": [],
   "source": [
    "import pyterrier as pt\n",
    "import pandas as pd\n",
    "import numpy as np\n",
    "import pyltr\n",
    "\n",
    "import lightgbm as lgb\n",
    "import xgboost as xgb\n",
    "\n",
    "from sklearn.model_selection import train_test_split\n",
    "from sklearn.datasets import load_svmlight_file\n",
    "\n",
    "from copy import deepcopy"
   ]
  },
  {
   "cell_type": "code",
   "execution_count": 2,
   "id": "under-ghana",
   "metadata": {},
   "outputs": [
    {
     "name": "stdout",
     "output_type": "stream",
     "text": [
      "PyTerrier 0.4.0 has loaded Terrier 5.4 (built by craigm on 2021-01-16 14:17)\n"
     ]
    }
   ],
   "source": [
    "if not pt.started():\n",
    "    pt.init()"
   ]
  },
  {
   "cell_type": "code",
   "execution_count": 3,
   "id": "geographic-keyboard",
   "metadata": {},
   "outputs": [
    {
     "name": "stdout",
     "output_type": "stream",
     "text": [
      "19:00:02.641 [main] WARN  o.t.structures.CompressingMetaIndex - Structure meta reading data file directly from disk (SLOW) - try index.meta.data-source=fileinmem in the index properties file. 2.1 GiB of memory would be required.\n"
     ]
    }
   ],
   "source": [
    "ds = pt.get_dataset(\"trec-deep-learning-passages\")\n",
    "index = pt.IndexFactory.of(\"./passage_index_8_bkp/data.properties\")"
   ]
  },
  {
   "cell_type": "code",
   "execution_count": 4,
   "id": "spiritual-nevada",
   "metadata": {},
   "outputs": [
    {
     "name": "stdout",
     "output_type": "stream",
     "text": [
      "Number of documents: 8841823\n",
      "Number of terms: 1170682\n",
      "Number of postings: 215238456\n",
      "Number of fields: 1\n",
      "Number of tokens: 288759529\n",
      "Field names: [text]\n",
      "Positions:   false\n",
      "\n"
     ]
    }
   ],
   "source": [
    "print(index.getCollectionStatistics().toString())"
   ]
  },
  {
   "cell_type": "code",
   "execution_count": 5,
   "id": "durable-section",
   "metadata": {},
   "outputs": [],
   "source": [
    "bm25 = pt.BatchRetrieve(index, wmodel=\"BM25\")"
   ]
  },
  {
   "cell_type": "code",
   "execution_count": 6,
   "id": "romance-brown",
   "metadata": {},
   "outputs": [
    {
     "data": {
      "text/html": [
       "<div>\n",
       "<style scoped>\n",
       "    .dataframe tbody tr th:only-of-type {\n",
       "        vertical-align: middle;\n",
       "    }\n",
       "\n",
       "    .dataframe tbody tr th {\n",
       "        vertical-align: top;\n",
       "    }\n",
       "\n",
       "    .dataframe thead th {\n",
       "        text-align: right;\n",
       "    }\n",
       "</style>\n",
       "<table border=\"1\" class=\"dataframe\">\n",
       "  <thead>\n",
       "    <tr style=\"text-align: right;\">\n",
       "      <th></th>\n",
       "      <th>name</th>\n",
       "      <th>map</th>\n",
       "      <th>recip_rank</th>\n",
       "      <th>ndcg</th>\n",
       "    </tr>\n",
       "  </thead>\n",
       "  <tbody>\n",
       "    <tr>\n",
       "      <th>0</th>\n",
       "      <td>BM25</td>\n",
       "      <td>0.369987</td>\n",
       "      <td>0.795028</td>\n",
       "      <td>0.59338</td>\n",
       "    </tr>\n",
       "  </tbody>\n",
       "</table>\n",
       "</div>"
      ],
      "text/plain": [
       "   name       map  recip_rank     ndcg\n",
       "0  BM25  0.369987    0.795028  0.59338"
      ]
     },
     "execution_count": 6,
     "metadata": {},
     "output_type": "execute_result"
    }
   ],
   "source": [
    "pt.Experiment(\n",
    "    [bm25],\n",
    "    ds.get_topics('test-2019'),\n",
    "    ds.get_qrels('test-2019'),\n",
    "    eval_metrics=[\"map\", \"recip_rank\", \"ndcg\"],\n",
    "    names = ['BM25']\n",
    ")"
   ]
  },
  {
   "cell_type": "code",
   "execution_count": 5,
   "id": "patent-provision",
   "metadata": {},
   "outputs": [
    {
     "data": {
      "text/html": [
       "<div>\n",
       "<style scoped>\n",
       "    .dataframe tbody tr th:only-of-type {\n",
       "        vertical-align: middle;\n",
       "    }\n",
       "\n",
       "    .dataframe tbody tr th {\n",
       "        vertical-align: top;\n",
       "    }\n",
       "\n",
       "    .dataframe thead th {\n",
       "        text-align: right;\n",
       "    }\n",
       "</style>\n",
       "<table border=\"1\" class=\"dataframe\">\n",
       "  <thead>\n",
       "    <tr style=\"text-align: right;\">\n",
       "      <th></th>\n",
       "      <th>qid</th>\n",
       "      <th>query</th>\n",
       "    </tr>\n",
       "  </thead>\n",
       "  <tbody>\n",
       "    <tr>\n",
       "      <th>0</th>\n",
       "      <td>121352</td>\n",
       "      <td>define extreme</td>\n",
       "    </tr>\n",
       "    <tr>\n",
       "      <th>1</th>\n",
       "      <td>634306</td>\n",
       "      <td>what does chattel mean on credit history</td>\n",
       "    </tr>\n",
       "    <tr>\n",
       "      <th>2</th>\n",
       "      <td>920825</td>\n",
       "      <td>what was the great leap forward brainly</td>\n",
       "    </tr>\n",
       "    <tr>\n",
       "      <th>3</th>\n",
       "      <td>510633</td>\n",
       "      <td>tattoo fixers how much does it cost</td>\n",
       "    </tr>\n",
       "    <tr>\n",
       "      <th>4</th>\n",
       "      <td>737889</td>\n",
       "      <td>what is decentralization process</td>\n",
       "    </tr>\n",
       "  </tbody>\n",
       "</table>\n",
       "</div>"
      ],
      "text/plain": [
       "      qid                                     query\n",
       "0  121352                            define extreme\n",
       "1  634306  what does chattel mean on credit history\n",
       "2  920825   what was the great leap forward brainly\n",
       "3  510633       tattoo fixers how much does it cost\n",
       "4  737889          what is decentralization process"
      ]
     },
     "execution_count": 5,
     "metadata": {},
     "output_type": "execute_result"
    }
   ],
   "source": [
    "df = ds.get_topics('train')\n",
    "df.head()"
   ]
  },
  {
   "cell_type": "code",
   "execution_count": 8,
   "id": "recreational-devil",
   "metadata": {},
   "outputs": [
    {
     "data": {
      "text/plain": [
       "qid      object\n",
       "query    object\n",
       "dtype: object"
      ]
     },
     "execution_count": 8,
     "metadata": {},
     "output_type": "execute_result"
    }
   ],
   "source": [
    "df.dtypes"
   ]
  },
  {
   "cell_type": "code",
   "execution_count": 9,
   "id": "killing-reference",
   "metadata": {},
   "outputs": [
    {
     "data": {
      "text/plain": [
       "array(['121352', '634306', '920825', ..., '210839', '908165', '50393'],\n",
       "      dtype=object)"
      ]
     },
     "execution_count": 9,
     "metadata": {},
     "output_type": "execute_result"
    }
   ],
   "source": [
    "df['qid'].unique()"
   ]
  },
  {
   "cell_type": "code",
   "execution_count": 55,
   "id": "dense-shakespeare",
   "metadata": {},
   "outputs": [
    {
     "name": "stdout",
     "output_type": "stream",
     "text": [
      "Applying 8 rules\n"
     ]
    }
   ],
   "source": [
    "pipeline = pt.FeaturesBatchRetrieve(index, wmodel=\"BM25\", features=[\"WMODEL:Tf\", \"WMODEL:PL2\"]) % 10\n",
    "pipeline = pipeline.compile()"
   ]
  },
  {
   "cell_type": "code",
   "execution_count": 56,
   "id": "equipped-ghana",
   "metadata": {},
   "outputs": [],
   "source": [
    "train_qrels = ds.get_qrels('train')"
   ]
  },
  {
   "cell_type": "code",
   "execution_count": 57,
   "id": "skilled-detail",
   "metadata": {},
   "outputs": [
    {
     "data": {
      "text/html": [
       "<div>\n",
       "<style scoped>\n",
       "    .dataframe tbody tr th:only-of-type {\n",
       "        vertical-align: middle;\n",
       "    }\n",
       "\n",
       "    .dataframe tbody tr th {\n",
       "        vertical-align: top;\n",
       "    }\n",
       "\n",
       "    .dataframe thead th {\n",
       "        text-align: right;\n",
       "    }\n",
       "</style>\n",
       "<table border=\"1\" class=\"dataframe\">\n",
       "  <thead>\n",
       "    <tr style=\"text-align: right;\">\n",
       "      <th></th>\n",
       "      <th>qid</th>\n",
       "      <th>docno</th>\n",
       "      <th>label</th>\n",
       "    </tr>\n",
       "  </thead>\n",
       "  <tbody>\n",
       "    <tr>\n",
       "      <th>0</th>\n",
       "      <td>1185869</td>\n",
       "      <td>0</td>\n",
       "      <td>1</td>\n",
       "    </tr>\n",
       "    <tr>\n",
       "      <th>1</th>\n",
       "      <td>1185868</td>\n",
       "      <td>16</td>\n",
       "      <td>1</td>\n",
       "    </tr>\n",
       "    <tr>\n",
       "      <th>2</th>\n",
       "      <td>597651</td>\n",
       "      <td>49</td>\n",
       "      <td>1</td>\n",
       "    </tr>\n",
       "    <tr>\n",
       "      <th>3</th>\n",
       "      <td>403613</td>\n",
       "      <td>60</td>\n",
       "      <td>1</td>\n",
       "    </tr>\n",
       "    <tr>\n",
       "      <th>4</th>\n",
       "      <td>1183785</td>\n",
       "      <td>389</td>\n",
       "      <td>1</td>\n",
       "    </tr>\n",
       "  </tbody>\n",
       "</table>\n",
       "</div>"
      ],
      "text/plain": [
       "       qid docno  label\n",
       "0  1185869     0      1\n",
       "1  1185868    16      1\n",
       "2   597651    49      1\n",
       "3   403613    60      1\n",
       "4  1183785   389      1"
      ]
     },
     "execution_count": 57,
     "metadata": {},
     "output_type": "execute_result"
    }
   ],
   "source": [
    "train_qrels.head()"
   ]
  },
  {
   "cell_type": "code",
   "execution_count": 77,
   "id": "fleet-firewall",
   "metadata": {},
   "outputs": [],
   "source": [
    "train_mil_queries = df[:1000].copy()\n",
    "va_mil_queries = df[100:201].copy()"
   ]
  },
  {
   "cell_type": "code",
   "execution_count": 60,
   "id": "driving-theater",
   "metadata": {},
   "outputs": [],
   "source": [
    "res = pipeline(train_mil_queries)\n",
    "pt.io.write_results(res, 'featureFile_100q', format='letor')"
   ]
  },
  {
   "cell_type": "code",
   "execution_count": 62,
   "id": "sufficient-academy",
   "metadata": {},
   "outputs": [],
   "source": [
    "with open(\"featureFile_100q\") as inf:\n",
    "    X_train, Y_train, qids_train, _ =  pyltr.data.letor.read_dataset(inf)"
   ]
  },
  {
   "cell_type": "code",
   "execution_count": 70,
   "id": "married-horse",
   "metadata": {},
   "outputs": [],
   "source": [
    "res = res.astype({'qid': 'int64'})"
   ]
  },
  {
   "cell_type": "code",
   "execution_count": 71,
   "id": "little-trigger",
   "metadata": {},
   "outputs": [
    {
     "data": {
      "text/html": [
       "<div>\n",
       "<style scoped>\n",
       "    .dataframe tbody tr th:only-of-type {\n",
       "        vertical-align: middle;\n",
       "    }\n",
       "\n",
       "    .dataframe tbody tr th {\n",
       "        vertical-align: top;\n",
       "    }\n",
       "\n",
       "    .dataframe thead th {\n",
       "        text-align: right;\n",
       "    }\n",
       "</style>\n",
       "<table border=\"1\" class=\"dataframe\">\n",
       "  <thead>\n",
       "    <tr style=\"text-align: right;\">\n",
       "      <th></th>\n",
       "      <th>qid_res</th>\n",
       "      <th>query</th>\n",
       "      <th>docid</th>\n",
       "      <th>rank</th>\n",
       "      <th>features</th>\n",
       "      <th>docno_res</th>\n",
       "      <th>score</th>\n",
       "      <th>qid_qrels</th>\n",
       "      <th>docno_qrels</th>\n",
       "      <th>label</th>\n",
       "    </tr>\n",
       "  </thead>\n",
       "  <tbody>\n",
       "    <tr>\n",
       "      <th>0</th>\n",
       "      <td>121352</td>\n",
       "      <td>define extreme</td>\n",
       "      <td>6009766</td>\n",
       "      <td>0</td>\n",
       "      <td>[4.0, 11.876832573726833]</td>\n",
       "      <td>718760</td>\n",
       "      <td>21.919845</td>\n",
       "      <td>386508</td>\n",
       "      <td>1875754</td>\n",
       "      <td>1.0</td>\n",
       "    </tr>\n",
       "    <tr>\n",
       "      <th>1</th>\n",
       "      <td>121352</td>\n",
       "      <td>define extreme</td>\n",
       "      <td>1038974</td>\n",
       "      <td>1</td>\n",
       "      <td>[5.0, 11.47977026833666]</td>\n",
       "      <td>6237152</td>\n",
       "      <td>21.776986</td>\n",
       "      <td>386508</td>\n",
       "      <td>1875754</td>\n",
       "      <td>1.0</td>\n",
       "    </tr>\n",
       "    <tr>\n",
       "      <th>2</th>\n",
       "      <td>121352</td>\n",
       "      <td>define extreme</td>\n",
       "      <td>2521184</td>\n",
       "      <td>2</td>\n",
       "      <td>[2.0, 10.75602754973717]</td>\n",
       "      <td>6350410</td>\n",
       "      <td>20.484073</td>\n",
       "      <td>386508</td>\n",
       "      <td>1875754</td>\n",
       "      <td>1.0</td>\n",
       "    </tr>\n",
       "    <tr>\n",
       "      <th>3</th>\n",
       "      <td>121352</td>\n",
       "      <td>define extreme</td>\n",
       "      <td>5621732</td>\n",
       "      <td>3</td>\n",
       "      <td>[4.0, 10.760031725457694]</td>\n",
       "      <td>7236060</td>\n",
       "      <td>20.436113</td>\n",
       "      <td>386508</td>\n",
       "      <td>1875754</td>\n",
       "      <td>1.0</td>\n",
       "    </tr>\n",
       "    <tr>\n",
       "      <th>4</th>\n",
       "      <td>121352</td>\n",
       "      <td>define extreme</td>\n",
       "      <td>3420721</td>\n",
       "      <td>4</td>\n",
       "      <td>[6.0, 10.849189347526387]</td>\n",
       "      <td>2912791</td>\n",
       "      <td>20.397157</td>\n",
       "      <td>386508</td>\n",
       "      <td>1875754</td>\n",
       "      <td>1.0</td>\n",
       "    </tr>\n",
       "    <tr>\n",
       "      <th>...</th>\n",
       "      <td>...</td>\n",
       "      <td>...</td>\n",
       "      <td>...</td>\n",
       "      <td>...</td>\n",
       "      <td>...</td>\n",
       "      <td>...</td>\n",
       "      <td>...</td>\n",
       "      <td>...</td>\n",
       "      <td>...</td>\n",
       "      <td>...</td>\n",
       "    </tr>\n",
       "    <tr>\n",
       "      <th>99005</th>\n",
       "      <td>1142466</td>\n",
       "      <td>when to start timeouts with toddlers</td>\n",
       "      <td>4622403</td>\n",
       "      <td>5</td>\n",
       "      <td>[5.0, 12.527907630617136]</td>\n",
       "      <td>1253430</td>\n",
       "      <td>25.179912</td>\n",
       "      <td>NaN</td>\n",
       "      <td>NaN</td>\n",
       "      <td>NaN</td>\n",
       "    </tr>\n",
       "    <tr>\n",
       "      <th>99006</th>\n",
       "      <td>1142466</td>\n",
       "      <td>when to start timeouts with toddlers</td>\n",
       "      <td>7787235</td>\n",
       "      <td>6</td>\n",
       "      <td>[4.0, 12.494236255873759]</td>\n",
       "      <td>2531632</td>\n",
       "      <td>25.154846</td>\n",
       "      <td>NaN</td>\n",
       "      <td>NaN</td>\n",
       "      <td>NaN</td>\n",
       "    </tr>\n",
       "    <tr>\n",
       "      <th>99007</th>\n",
       "      <td>1142466</td>\n",
       "      <td>when to start timeouts with toddlers</td>\n",
       "      <td>181753</td>\n",
       "      <td>7</td>\n",
       "      <td>[5.0, 12.685787930573474]</td>\n",
       "      <td>1082511</td>\n",
       "      <td>25.094037</td>\n",
       "      <td>NaN</td>\n",
       "      <td>NaN</td>\n",
       "      <td>NaN</td>\n",
       "    </tr>\n",
       "    <tr>\n",
       "      <th>99008</th>\n",
       "      <td>1142466</td>\n",
       "      <td>when to start timeouts with toddlers</td>\n",
       "      <td>4622402</td>\n",
       "      <td>8</td>\n",
       "      <td>[5.0, 12.392980085085238]</td>\n",
       "      <td>1253425</td>\n",
       "      <td>24.955413</td>\n",
       "      <td>NaN</td>\n",
       "      <td>NaN</td>\n",
       "      <td>NaN</td>\n",
       "    </tr>\n",
       "    <tr>\n",
       "      <th>99009</th>\n",
       "      <td>1142466</td>\n",
       "      <td>when to start timeouts with toddlers</td>\n",
       "      <td>2495925</td>\n",
       "      <td>9</td>\n",
       "      <td>[3.0, 12.236410443223885]</td>\n",
       "      <td>6204190</td>\n",
       "      <td>24.743183</td>\n",
       "      <td>NaN</td>\n",
       "      <td>NaN</td>\n",
       "      <td>NaN</td>\n",
       "    </tr>\n",
       "  </tbody>\n",
       "</table>\n",
       "<p>1000 rows × 10 columns</p>\n",
       "</div>"
      ],
      "text/plain": [
       "       qid_res                                 query    docid  rank  \\\n",
       "0       121352                        define extreme  6009766     0   \n",
       "1       121352                        define extreme  1038974     1   \n",
       "2       121352                        define extreme  2521184     2   \n",
       "3       121352                        define extreme  5621732     3   \n",
       "4       121352                        define extreme  3420721     4   \n",
       "...        ...                                   ...      ...   ...   \n",
       "99005  1142466  when to start timeouts with toddlers  4622403     5   \n",
       "99006  1142466  when to start timeouts with toddlers  7787235     6   \n",
       "99007  1142466  when to start timeouts with toddlers   181753     7   \n",
       "99008  1142466  when to start timeouts with toddlers  4622402     8   \n",
       "99009  1142466  when to start timeouts with toddlers  2495925     9   \n",
       "\n",
       "                        features docno_res      score qid_qrels docno_qrels  \\\n",
       "0      [4.0, 11.876832573726833]    718760  21.919845    386508     1875754   \n",
       "1       [5.0, 11.47977026833666]   6237152  21.776986    386508     1875754   \n",
       "2       [2.0, 10.75602754973717]   6350410  20.484073    386508     1875754   \n",
       "3      [4.0, 10.760031725457694]   7236060  20.436113    386508     1875754   \n",
       "4      [6.0, 10.849189347526387]   2912791  20.397157    386508     1875754   \n",
       "...                          ...       ...        ...       ...         ...   \n",
       "99005  [5.0, 12.527907630617136]   1253430  25.179912       NaN         NaN   \n",
       "99006  [4.0, 12.494236255873759]   2531632  25.154846       NaN         NaN   \n",
       "99007  [5.0, 12.685787930573474]   1082511  25.094037       NaN         NaN   \n",
       "99008  [5.0, 12.392980085085238]   1253425  24.955413       NaN         NaN   \n",
       "99009  [3.0, 12.236410443223885]   6204190  24.743183       NaN         NaN   \n",
       "\n",
       "       label  \n",
       "0        1.0  \n",
       "1        1.0  \n",
       "2        1.0  \n",
       "3        1.0  \n",
       "4        1.0  \n",
       "...      ...  \n",
       "99005    NaN  \n",
       "99006    NaN  \n",
       "99007    NaN  \n",
       "99008    NaN  \n",
       "99009    NaN  \n",
       "\n",
       "[1000 rows x 10 columns]"
      ]
     },
     "execution_count": 71,
     "metadata": {},
     "output_type": "execute_result"
    }
   ],
   "source": [
    "res.join(train_qrels, on='qid', how='left', lsuffix='_res', rsuffix='_qrels')"
   ]
  },
  {
   "cell_type": "code",
   "execution_count": 78,
   "id": "indoor-collectible",
   "metadata": {
    "scrolled": true
   },
   "outputs": [],
   "source": [
    "# this configures LightGBM as LambdaMART\n",
    "lmart_l = lgb.LGBMRanker(task=\"train\",\n",
    "    min_data_in_leaf=1,\n",
    "    min_sum_hessian_in_leaf=100,\n",
    "    max_bin=255,\n",
    "    num_leaves=7,\n",
    "    objective=\"lambdarank\",\n",
    "    metric=\"ndcg\",\n",
    "    ndcg_eval_at=[1, 3, 5, 10],\n",
    "    learning_rate= .1,\n",
    "    importance_type=\"gain\",\n",
    "    num_iterations=10,\n",
    "    num_threads=6,\n",
    "    device_type='gpu')\n",
    "lmart_l_pipe = pipeline >> pt.ltr.apply_learned_model(lmart_l, form=\"ltr\")\n"
   ]
  },
  {
   "cell_type": "code",
   "execution_count": 79,
   "id": "absolute-python",
   "metadata": {},
   "outputs": [
    {
     "name": "stdout",
     "output_type": "stream",
     "text": [
      "[1]\tvalid_0's ndcg@1: 0.792079\tvalid_0's ndcg@2: 0.823313\tvalid_0's ndcg@3: 0.843115\tvalid_0's ndcg@4: 0.855908\tvalid_0's ndcg@5: 0.859738\n",
      "[2]\tvalid_0's ndcg@1: 0.792079\tvalid_0's ndcg@2: 0.835807\tvalid_0's ndcg@3: 0.850658\tvalid_0's ndcg@4: 0.859187\tvalid_0's ndcg@5: 0.870677\n",
      "[3]\tvalid_0's ndcg@1: 0.811881\tvalid_0's ndcg@2: 0.849362\tvalid_0's ndcg@3: 0.864214\tvalid_0's ndcg@4: 0.877006\tvalid_0's ndcg@5: 0.880836\n",
      "[4]\tvalid_0's ndcg@1: 0.80198\tvalid_0's ndcg@2: 0.845708\tvalid_0's ndcg@3: 0.855609\tvalid_0's ndcg@4: 0.872665\tvalid_0's ndcg@5: 0.880326\n",
      "[5]\tvalid_0's ndcg@1: 0.80198\tvalid_0's ndcg@2: 0.851955\tvalid_0's ndcg@3: 0.856905\tvalid_0's ndcg@4: 0.873962\tvalid_0's ndcg@5: 0.881622\n",
      "[6]\tvalid_0's ndcg@1: 0.792079\tvalid_0's ndcg@2: 0.848301\tvalid_0's ndcg@3: 0.853251\tvalid_0's ndcg@4: 0.870308\tvalid_0's ndcg@5: 0.877968\n",
      "[7]\tvalid_0's ndcg@1: 0.80198\tvalid_0's ndcg@2: 0.839461\tvalid_0's ndcg@3: 0.849362\tvalid_0's ndcg@4: 0.874947\tvalid_0's ndcg@5: 0.878777\n",
      "[8]\tvalid_0's ndcg@1: 0.80198\tvalid_0's ndcg@2: 0.839461\tvalid_0's ndcg@3: 0.849362\tvalid_0's ndcg@4: 0.874947\tvalid_0's ndcg@5: 0.878777\n",
      "[9]\tvalid_0's ndcg@1: 0.80198\tvalid_0's ndcg@2: 0.839461\tvalid_0's ndcg@3: 0.849362\tvalid_0's ndcg@4: 0.874947\tvalid_0's ndcg@5: 0.878777\n",
      "[10]\tvalid_0's ndcg@1: 0.792079\tvalid_0's ndcg@2: 0.82956\tvalid_0's ndcg@3: 0.839461\tvalid_0's ndcg@4: 0.86931\tvalid_0's ndcg@5: 0.87697\n"
     ]
    },
    {
     "name": "stderr",
     "output_type": "stream",
     "text": [
      "/home/ojass/anaconda3/envs/ir/lib/python3.6/site-packages/lightgbm/engine.py:148: UserWarning: Found `num_iterations` in params. Will use it instead of argument\n",
      "  _log_warning(\"Found `{}` in params. Will use it instead of argument\".format(alias))\n"
     ]
    }
   ],
   "source": [
    "lmart_l_pipe.fit(train_mil_queries, train_qrels, va_mil_queries, train_qrels)"
   ]
  },
  {
   "cell_type": "code",
   "execution_count": null,
   "id": "associate-excerpt",
   "metadata": {
    "scrolled": true
   },
   "outputs": [],
   "source": [
    "# this configures XGBoost as LambdaMART\n",
    "lmart_x = xgb.sklearn.XGBRanker(objective='rank:ndcg',\n",
    "      learning_rate=0.1,\n",
    "      gamma=1.0,\n",
    "      tree_method='gpu_hist',\n",
    "      min_child_weight=0.1,\n",
    "      max_depth=6,\n",
    "      verbose=2,\n",
    "      random_state=42, gpu_id=0)\n",
    "\n",
    "lmart_x_pipe = pipeline >> pt.ltr.apply_learned_model(lmart_x, form=\"ltr\")\n",
    "lmart_x_pipe.fit(train_mil_queries, train_qrels)"
   ]
  },
  {
   "cell_type": "code",
   "execution_count": 48,
   "id": "deluxe-telling",
   "metadata": {},
   "outputs": [
    {
     "data": {
      "text/html": [
       "<div>\n",
       "<style scoped>\n",
       "    .dataframe tbody tr th:only-of-type {\n",
       "        vertical-align: middle;\n",
       "    }\n",
       "\n",
       "    .dataframe tbody tr th {\n",
       "        vertical-align: top;\n",
       "    }\n",
       "\n",
       "    .dataframe thead th {\n",
       "        text-align: right;\n",
       "    }\n",
       "</style>\n",
       "<table border=\"1\" class=\"dataframe\">\n",
       "  <thead>\n",
       "    <tr style=\"text-align: right;\">\n",
       "      <th></th>\n",
       "      <th>qid</th>\n",
       "      <th>docno</th>\n",
       "      <th>label</th>\n",
       "    </tr>\n",
       "  </thead>\n",
       "  <tbody>\n",
       "    <tr>\n",
       "      <th>0</th>\n",
       "      <td>1185869</td>\n",
       "      <td>0</td>\n",
       "      <td>1</td>\n",
       "    </tr>\n",
       "    <tr>\n",
       "      <th>1</th>\n",
       "      <td>1185868</td>\n",
       "      <td>16</td>\n",
       "      <td>1</td>\n",
       "    </tr>\n",
       "    <tr>\n",
       "      <th>2</th>\n",
       "      <td>597651</td>\n",
       "      <td>49</td>\n",
       "      <td>1</td>\n",
       "    </tr>\n",
       "    <tr>\n",
       "      <th>3</th>\n",
       "      <td>403613</td>\n",
       "      <td>60</td>\n",
       "      <td>1</td>\n",
       "    </tr>\n",
       "    <tr>\n",
       "      <th>4</th>\n",
       "      <td>1183785</td>\n",
       "      <td>389</td>\n",
       "      <td>1</td>\n",
       "    </tr>\n",
       "  </tbody>\n",
       "</table>\n",
       "</div>"
      ],
      "text/plain": [
       "       qid docno  label\n",
       "0  1185869     0      1\n",
       "1  1185868    16      1\n",
       "2   597651    49      1\n",
       "3   403613    60      1\n",
       "4  1183785   389      1"
      ]
     },
     "execution_count": 48,
     "metadata": {},
     "output_type": "execute_result"
    }
   ],
   "source": [
    "qrels = ds.get_qrels('train')\n",
    "qrels.head()"
   ]
  },
  {
   "cell_type": "code",
   "execution_count": 90,
   "id": "pediatric-standing",
   "metadata": {},
   "outputs": [],
   "source": [
    "df = df.astype({'qid': 'int64'})"
   ]
  },
  {
   "cell_type": "code",
   "execution_count": 56,
   "id": "average-photograph",
   "metadata": {},
   "outputs": [
    {
     "data": {
      "text/plain": [
       "qid      object\n",
       "docno    object\n",
       "label     int64\n",
       "dtype: object"
      ]
     },
     "execution_count": 56,
     "metadata": {},
     "output_type": "execute_result"
    }
   ],
   "source": [
    "qrels.dtypes"
   ]
  },
  {
   "cell_type": "code",
   "execution_count": 58,
   "id": "expected-season",
   "metadata": {},
   "outputs": [],
   "source": [
    "full_table = df.join(qrels, on='qid', how='right', lsuffix='_topics', rsuffix='_qrels')"
   ]
  },
  {
   "cell_type": "code",
   "execution_count": 59,
   "id": "close-butterfly",
   "metadata": {},
   "outputs": [
    {
     "data": {
      "text/html": [
       "<div>\n",
       "<style scoped>\n",
       "    .dataframe tbody tr th:only-of-type {\n",
       "        vertical-align: middle;\n",
       "    }\n",
       "\n",
       "    .dataframe tbody tr th {\n",
       "        vertical-align: top;\n",
       "    }\n",
       "\n",
       "    .dataframe thead th {\n",
       "        text-align: right;\n",
       "    }\n",
       "</style>\n",
       "<table border=\"1\" class=\"dataframe\">\n",
       "  <thead>\n",
       "    <tr style=\"text-align: right;\">\n",
       "      <th></th>\n",
       "      <th>qid</th>\n",
       "      <th>qid_topics</th>\n",
       "      <th>query</th>\n",
       "      <th>qid_qrels</th>\n",
       "      <th>docno</th>\n",
       "      <th>label</th>\n",
       "    </tr>\n",
       "  </thead>\n",
       "  <tbody>\n",
       "    <tr>\n",
       "      <th>NaN</th>\n",
       "      <td>0</td>\n",
       "      <td>NaN</td>\n",
       "      <td>NaN</td>\n",
       "      <td>1185869</td>\n",
       "      <td>0</td>\n",
       "      <td>1</td>\n",
       "    </tr>\n",
       "    <tr>\n",
       "      <th>322300.0</th>\n",
       "      <td>1</td>\n",
       "      <td>1.0</td>\n",
       "      <td>a potlatch is considered an example of</td>\n",
       "      <td>1185868</td>\n",
       "      <td>16</td>\n",
       "      <td>1</td>\n",
       "    </tr>\n",
       "    <tr>\n",
       "      <th>NaN</th>\n",
       "      <td>2</td>\n",
       "      <td>NaN</td>\n",
       "      <td>NaN</td>\n",
       "      <td>597651</td>\n",
       "      <td>49</td>\n",
       "      <td>1</td>\n",
       "    </tr>\n",
       "    <tr>\n",
       "      <th>36118.0</th>\n",
       "      <td>3</td>\n",
       "      <td>3.0</td>\n",
       "      <td>another name for the primary visual cortex is</td>\n",
       "      <td>403613</td>\n",
       "      <td>60</td>\n",
       "      <td>1</td>\n",
       "    </tr>\n",
       "    <tr>\n",
       "      <th>455738.0</th>\n",
       "      <td>4</td>\n",
       "      <td>4.0</td>\n",
       "      <td>defining alcoholism as a disease is associated...</td>\n",
       "      <td>1183785</td>\n",
       "      <td>389</td>\n",
       "      <td>1</td>\n",
       "    </tr>\n",
       "  </tbody>\n",
       "</table>\n",
       "</div>"
      ],
      "text/plain": [
       "          qid  qid_topics                                              query  \\\n",
       "NaN         0         NaN                                                NaN   \n",
       "322300.0    1         1.0             a potlatch is considered an example of   \n",
       "NaN         2         NaN                                                NaN   \n",
       "36118.0     3         3.0      another name for the primary visual cortex is   \n",
       "455738.0    4         4.0  defining alcoholism as a disease is associated...   \n",
       "\n",
       "         qid_qrels docno  label  \n",
       "NaN        1185869     0      1  \n",
       "322300.0   1185868    16      1  \n",
       "NaN         597651    49      1  \n",
       "36118.0     403613    60      1  \n",
       "455738.0   1183785   389      1  "
      ]
     },
     "execution_count": 59,
     "metadata": {},
     "output_type": "execute_result"
    }
   ],
   "source": [
    "full_table.head()"
   ]
  },
  {
   "cell_type": "code",
   "execution_count": 14,
   "id": "divided-mountain",
   "metadata": {},
   "outputs": [
    {
     "data": {
      "text/html": [
       "<div>\n",
       "<style scoped>\n",
       "    .dataframe tbody tr th:only-of-type {\n",
       "        vertical-align: middle;\n",
       "    }\n",
       "\n",
       "    .dataframe tbody tr th {\n",
       "        vertical-align: top;\n",
       "    }\n",
       "\n",
       "    .dataframe thead th {\n",
       "        text-align: right;\n",
       "    }\n",
       "</style>\n",
       "<table border=\"1\" class=\"dataframe\">\n",
       "  <thead>\n",
       "    <tr style=\"text-align: right;\">\n",
       "      <th></th>\n",
       "      <th>qid</th>\n",
       "      <th>query</th>\n",
       "    </tr>\n",
       "  </thead>\n",
       "  <tbody>\n",
       "    <tr>\n",
       "      <th>0</th>\n",
       "      <td>1108939</td>\n",
       "      <td>what slows down the flow of blood</td>\n",
       "    </tr>\n",
       "    <tr>\n",
       "      <th>1</th>\n",
       "      <td>1112389</td>\n",
       "      <td>what is the county for grand rapids mn</td>\n",
       "    </tr>\n",
       "    <tr>\n",
       "      <th>2</th>\n",
       "      <td>792752</td>\n",
       "      <td>what is ruclip</td>\n",
       "    </tr>\n",
       "    <tr>\n",
       "      <th>3</th>\n",
       "      <td>1119729</td>\n",
       "      <td>what do you do when you have a nosebleed from ...</td>\n",
       "    </tr>\n",
       "    <tr>\n",
       "      <th>4</th>\n",
       "      <td>1105095</td>\n",
       "      <td>where is sugar lake lodge located</td>\n",
       "    </tr>\n",
       "  </tbody>\n",
       "</table>\n",
       "</div>"
      ],
      "text/plain": [
       "       qid                                              query\n",
       "0  1108939                  what slows down the flow of blood\n",
       "1  1112389             what is the county for grand rapids mn\n",
       "2   792752                                     what is ruclip\n",
       "3  1119729  what do you do when you have a nosebleed from ...\n",
       "4  1105095                  where is sugar lake lodge located"
      ]
     },
     "execution_count": 14,
     "metadata": {},
     "output_type": "execute_result"
    }
   ],
   "source": [
    "test_queries = ds.get_topics('test-2019')\n",
    "test_queries = test_queries.astype({'qid': 'int64'})\n",
    "test_queries.head()"
   ]
  },
  {
   "cell_type": "code",
   "execution_count": 15,
   "id": "mathematical-medicaid",
   "metadata": {},
   "outputs": [],
   "source": [
    "test_qrels = ds.get_qrels('test-2019')\n",
    "test_qrels = test_qrels.astype({'qid': 'int64'})"
   ]
  },
  {
   "cell_type": "code",
   "execution_count": 138,
   "id": "civilian-recommendation",
   "metadata": {},
   "outputs": [],
   "source": [
    "Q = test_queries.iloc[55]"
   ]
  },
  {
   "cell_type": "code",
   "execution_count": 139,
   "id": "happy-blogger",
   "metadata": {},
   "outputs": [
    {
     "data": {
      "text/plain": [
       "1133167"
      ]
     },
     "execution_count": 139,
     "metadata": {},
     "output_type": "execute_result"
    }
   ],
   "source": [
    "Q.qid"
   ]
  },
  {
   "cell_type": "code",
   "execution_count": 140,
   "id": "fifteen-processing",
   "metadata": {},
   "outputs": [
    {
     "name": "stdout",
     "output_type": "stream",
     "text": [
      "Applying 8 rules\n"
     ]
    }
   ],
   "source": [
    "bm25_t = pt.BatchRetrieve(index, wmodel=\"BM25\") % 4\n",
    "bm25_t = bm25_t.compile()"
   ]
  },
  {
   "cell_type": "code",
   "execution_count": 142,
   "id": "impaired-bidder",
   "metadata": {},
   "outputs": [
    {
     "data": {
      "text/html": [
       "<div>\n",
       "<style scoped>\n",
       "    .dataframe tbody tr th:only-of-type {\n",
       "        vertical-align: middle;\n",
       "    }\n",
       "\n",
       "    .dataframe tbody tr th {\n",
       "        vertical-align: top;\n",
       "    }\n",
       "\n",
       "    .dataframe thead th {\n",
       "        text-align: right;\n",
       "    }\n",
       "</style>\n",
       "<table border=\"1\" class=\"dataframe\">\n",
       "  <thead>\n",
       "    <tr style=\"text-align: right;\">\n",
       "      <th></th>\n",
       "      <th>qid</th>\n",
       "      <th>docid</th>\n",
       "      <th>docno</th>\n",
       "      <th>rank</th>\n",
       "      <th>score</th>\n",
       "      <th>query</th>\n",
       "    </tr>\n",
       "  </thead>\n",
       "  <tbody>\n",
       "    <tr>\n",
       "      <th>0</th>\n",
       "      <td>1</td>\n",
       "      <td>5356601</td>\n",
       "      <td>5674622</td>\n",
       "      <td>0</td>\n",
       "      <td>33.297181</td>\n",
       "      <td>how is the weather in jamaica</td>\n",
       "    </tr>\n",
       "    <tr>\n",
       "      <th>1</th>\n",
       "      <td>1</td>\n",
       "      <td>2823018</td>\n",
       "      <td>8160230</td>\n",
       "      <td>1</td>\n",
       "      <td>31.210468</td>\n",
       "      <td>how is the weather in jamaica</td>\n",
       "    </tr>\n",
       "    <tr>\n",
       "      <th>2</th>\n",
       "      <td>1</td>\n",
       "      <td>1369965</td>\n",
       "      <td>8255705</td>\n",
       "      <td>2</td>\n",
       "      <td>31.180305</td>\n",
       "      <td>how is the weather in jamaica</td>\n",
       "    </tr>\n",
       "    <tr>\n",
       "      <th>3</th>\n",
       "      <td>1</td>\n",
       "      <td>1498595</td>\n",
       "      <td>190809</td>\n",
       "      <td>3</td>\n",
       "      <td>30.632402</td>\n",
       "      <td>how is the weather in jamaica</td>\n",
       "    </tr>\n",
       "  </tbody>\n",
       "</table>\n",
       "</div>"
      ],
      "text/plain": [
       "  qid    docid    docno  rank      score                          query\n",
       "0   1  5356601  5674622     0  33.297181  how is the weather in jamaica\n",
       "1   1  2823018  8160230     1  31.210468  how is the weather in jamaica\n",
       "2   1  1369965  8255705     2  31.180305  how is the weather in jamaica\n",
       "3   1  1498595   190809     3  30.632402  how is the weather in jamaica"
      ]
     },
     "execution_count": 142,
     "metadata": {},
     "output_type": "execute_result"
    }
   ],
   "source": [
    "bm25_t.search(Q.query)"
   ]
  },
  {
   "cell_type": "code",
   "execution_count": 143,
   "id": "lasting-judges",
   "metadata": {},
   "outputs": [
    {
     "data": {
      "text/html": [
       "<div>\n",
       "<style scoped>\n",
       "    .dataframe tbody tr th:only-of-type {\n",
       "        vertical-align: middle;\n",
       "    }\n",
       "\n",
       "    .dataframe tbody tr th {\n",
       "        vertical-align: top;\n",
       "    }\n",
       "\n",
       "    .dataframe thead th {\n",
       "        text-align: right;\n",
       "    }\n",
       "</style>\n",
       "<table border=\"1\" class=\"dataframe\">\n",
       "  <thead>\n",
       "    <tr style=\"text-align: right;\">\n",
       "      <th></th>\n",
       "      <th>qid</th>\n",
       "      <th>docno</th>\n",
       "      <th>label</th>\n",
       "    </tr>\n",
       "  </thead>\n",
       "  <tbody>\n",
       "    <tr>\n",
       "      <th>8768</th>\n",
       "      <td>1133167</td>\n",
       "      <td>1014506</td>\n",
       "      <td>0</td>\n",
       "    </tr>\n",
       "    <tr>\n",
       "      <th>8769</th>\n",
       "      <td>1133167</td>\n",
       "      <td>1060131</td>\n",
       "      <td>0</td>\n",
       "    </tr>\n",
       "    <tr>\n",
       "      <th>8770</th>\n",
       "      <td>1133167</td>\n",
       "      <td>1064355</td>\n",
       "      <td>0</td>\n",
       "    </tr>\n",
       "    <tr>\n",
       "      <th>8771</th>\n",
       "      <td>1133167</td>\n",
       "      <td>1070102</td>\n",
       "      <td>0</td>\n",
       "    </tr>\n",
       "    <tr>\n",
       "      <th>8772</th>\n",
       "      <td>1133167</td>\n",
       "      <td>1097959</td>\n",
       "      <td>0</td>\n",
       "    </tr>\n",
       "  </tbody>\n",
       "</table>\n",
       "</div>"
      ],
      "text/plain": [
       "          qid    docno  label\n",
       "8768  1133167  1014506      0\n",
       "8769  1133167  1060131      0\n",
       "8770  1133167  1064355      0\n",
       "8771  1133167  1070102      0\n",
       "8772  1133167  1097959      0"
      ]
     },
     "execution_count": 143,
     "metadata": {},
     "output_type": "execute_result"
    }
   ],
   "source": [
    "Q_qrels = test_qrels[test_qrels.qid == Q.qid]\n",
    "Q_qrels.head()"
   ]
  },
  {
   "cell_type": "code",
   "execution_count": 146,
   "id": "scheduled-oracle",
   "metadata": {},
   "outputs": [],
   "source": [
    "Q_qrels = Q_qrels.astype({'docno': 'int64'})"
   ]
  },
  {
   "cell_type": "code",
   "execution_count": 149,
   "id": "decent-brazil",
   "metadata": {},
   "outputs": [
    {
     "data": {
      "text/html": [
       "<div>\n",
       "<style scoped>\n",
       "    .dataframe tbody tr th:only-of-type {\n",
       "        vertical-align: middle;\n",
       "    }\n",
       "\n",
       "    .dataframe tbody tr th {\n",
       "        vertical-align: top;\n",
       "    }\n",
       "\n",
       "    .dataframe thead th {\n",
       "        text-align: right;\n",
       "    }\n",
       "</style>\n",
       "<table border=\"1\" class=\"dataframe\">\n",
       "  <thead>\n",
       "    <tr style=\"text-align: right;\">\n",
       "      <th></th>\n",
       "      <th>qid</th>\n",
       "      <th>docno</th>\n",
       "      <th>label</th>\n",
       "    </tr>\n",
       "  </thead>\n",
       "  <tbody>\n",
       "    <tr>\n",
       "      <th>9040</th>\n",
       "      <td>1133167</td>\n",
       "      <td>5674622</td>\n",
       "      <td>2</td>\n",
       "    </tr>\n",
       "  </tbody>\n",
       "</table>\n",
       "</div>"
      ],
      "text/plain": [
       "          qid    docno  label\n",
       "9040  1133167  5674622      2"
      ]
     },
     "execution_count": 149,
     "metadata": {},
     "output_type": "execute_result"
    }
   ],
   "source": [
    "Q_qrels[Q_qrels.docno == 5674622]"
   ]
  },
  {
   "cell_type": "markdown",
   "id": "hearing-neutral",
   "metadata": {},
   "source": [
    "1. retrieved ranks, actual ranks per Query\n",
    "2. if the retreived doc doesn't exist in qrels\n",
    "3. "
   ]
  },
  {
   "cell_type": "code",
   "execution_count": null,
   "id": "narrow-wings",
   "metadata": {},
   "outputs": [],
   "source": []
  }
 ],
 "metadata": {
  "kernelspec": {
   "display_name": "Python 3",
   "language": "python",
   "name": "python3"
  },
  "language_info": {
   "codemirror_mode": {
    "name": "ipython",
    "version": 3
   },
   "file_extension": ".py",
   "mimetype": "text/x-python",
   "name": "python",
   "nbconvert_exporter": "python",
   "pygments_lexer": "ipython3",
   "version": "3.6.12"
  },
  "toc": {
   "base_numbering": 1,
   "nav_menu": {},
   "number_sections": true,
   "sideBar": true,
   "skip_h1_title": false,
   "title_cell": "Table of Contents",
   "title_sidebar": "Contents",
   "toc_cell": false,
   "toc_position": {},
   "toc_section_display": true,
   "toc_window_display": false
  }
 },
 "nbformat": 4,
 "nbformat_minor": 5
}
