{
  "nbformat": 4,
  "nbformat_minor": 0,
  "metadata": {
    "colab": {
      "name": "Baselines.ipynb",
      "provenance": [],
      "collapsed_sections": [],
      "toc_visible": true
    },
    "kernelspec": {
      "name": "python3",
      "display_name": "Python 3"
    }
  },
  "cells": [
    {
      "cell_type": "code",
      "metadata": {
        "id": "EorV3Jb0UYRh"
      },
      "source": [
        ""
      ],
      "execution_count": null,
      "outputs": []
    },
    {
      "cell_type": "markdown",
      "metadata": {
        "id": "huZuqfJFUYuO"
      },
      "source": [
        "# Imports"
      ]
    },
    {
      "cell_type": "code",
      "metadata": {
        "colab": {
          "base_uri": "https://localhost:8080/",
          "height": 1000
        },
        "id": "MTlTQc54Z0Jf",
        "outputId": "5399fb2c-0709-4848-ec98-90103b55a5b5"
      },
      "source": [
        "!pip install python-terrier\r\n",
        "!pip install ir_datasets\r\n",
        "#!pip install --upgrade git+https://github.com/terrier-org/pyterrier.git#egg=python-terrier"
      ],
      "execution_count": 2,
      "outputs": [
        {
          "output_type": "stream",
          "text": [
            "Collecting python-terrier\n",
            "\u001b[?25l  Downloading https://files.pythonhosted.org/packages/6b/5d/dc47e86714bb4e13399e190aa2bdcc6aadc26563124cb865c0bea0c47902/python-terrier-0.4.0.tar.gz (70kB)\n",
            "\r\u001b[K     |████▋                           | 10kB 16.5MB/s eta 0:00:01\r\u001b[K     |█████████▎                      | 20kB 23.5MB/s eta 0:00:01\r\u001b[K     |██████████████                  | 30kB 20.2MB/s eta 0:00:01\r\u001b[K     |██████████████████▌             | 40kB 17.8MB/s eta 0:00:01\r\u001b[K     |███████████████████████▏        | 51kB 15.2MB/s eta 0:00:01\r\u001b[K     |███████████████████████████▉    | 61kB 16.7MB/s eta 0:00:01\r\u001b[K     |████████████████████████████████| 71kB 4.6MB/s \n",
            "\u001b[?25hRequirement already satisfied: numpy in /usr/local/lib/python3.7/dist-packages (from python-terrier) (1.19.5)\n",
            "Requirement already satisfied: pandas in /usr/local/lib/python3.7/dist-packages (from python-terrier) (1.1.5)\n",
            "Collecting wget\n",
            "  Downloading https://files.pythonhosted.org/packages/47/6a/62e288da7bcda82b935ff0c6cfe542970f04e29c756b0e147251b2fb251f/wget-3.2.zip\n",
            "Collecting pytrec_eval>=0.5\n",
            "  Downloading https://files.pythonhosted.org/packages/2e/03/e6e84df6a7c1265579ab26bbe30ff7f8c22745aa77e0799bba471c0a3a19/pytrec_eval-0.5.tar.gz\n",
            "Requirement already satisfied: tqdm in /usr/local/lib/python3.7/dist-packages (from python-terrier) (4.41.1)\n",
            "Collecting pyjnius~=1.3.0\n",
            "\u001b[?25l  Downloading https://files.pythonhosted.org/packages/ea/b1/e33db12a20efe28b20fbcf4efc9b95a934954587cd7aa5998987a22e8885/pyjnius-1.3.0-cp37-cp37m-manylinux2010_x86_64.whl (1.1MB)\n",
            "\u001b[K     |████████████████████████████████| 1.1MB 13.9MB/s \n",
            "\u001b[?25hCollecting matchpy\n",
            "\u001b[?25l  Downloading https://files.pythonhosted.org/packages/2a/25/6b8fa5846476c2d56856a4926fda859b218656b14571ace76fbcd1d39986/matchpy-0.5.4-py3-none-any.whl (69kB)\n",
            "\u001b[K     |████████████████████████████████| 71kB 6.3MB/s \n",
            "\u001b[?25hRequirement already satisfied: sklearn in /usr/local/lib/python3.7/dist-packages (from python-terrier) (0.0)\n",
            "Collecting deprecation\n",
            "  Downloading https://files.pythonhosted.org/packages/02/c3/253a89ee03fc9b9682f1541728eb66db7db22148cd94f89ab22528cd1e1b/deprecation-2.1.0-py2.py3-none-any.whl\n",
            "Collecting chest\n",
            "  Downloading https://files.pythonhosted.org/packages/18/66/b883b9a26cd2f777dd04b7eedc842d31ea1567b7709b049d46eca418501e/chest-0.2.3.tar.gz\n",
            "Requirement already satisfied: scipy in /usr/local/lib/python3.7/dist-packages (from python-terrier) (1.4.1)\n",
            "Requirement already satisfied: requests in /usr/local/lib/python3.7/dist-packages (from python-terrier) (2.23.0)\n",
            "Collecting nptyping\n",
            "  Downloading https://files.pythonhosted.org/packages/f1/1e/1af177efdf368b65831ea999e0a68f5320f8009f28dbc1a46db091ffdb24/nptyping-1.4.0-py3-none-any.whl\n",
            "Requirement already satisfied: tabulate in /usr/local/lib/python3.7/dist-packages (from python-terrier) (0.8.9)\n",
            "Requirement already satisfied: jinja2 in /usr/local/lib/python3.7/dist-packages (from python-terrier) (2.11.3)\n",
            "Collecting sphinx_rtd_theme\n",
            "\u001b[?25l  Downloading https://files.pythonhosted.org/packages/76/81/d5af3a50a45ee4311ac2dac5b599d69f68388401c7a4ca902e0e450a9f94/sphinx_rtd_theme-0.5.1-py2.py3-none-any.whl (2.8MB)\n",
            "\u001b[K     |████████████████████████████████| 2.8MB 45.7MB/s \n",
            "\u001b[?25hRequirement already satisfied: more_itertools in /usr/local/lib/python3.7/dist-packages (from python-terrier) (8.7.0)\n",
            "Collecting myst_parser\n",
            "\u001b[?25l  Downloading https://files.pythonhosted.org/packages/87/bc/810dd8c332a4fc76ce4ea6246b0b61799ef97e4bcb1d532cd3df602806cd/myst_parser-0.13.5-py3-none-any.whl (44kB)\n",
            "\u001b[K     |████████████████████████████████| 51kB 5.0MB/s \n",
            "\u001b[?25hCollecting ir_datasets>=0.2.0\n",
            "\u001b[?25l  Downloading https://files.pythonhosted.org/packages/c5/be/6d5ff938ceb457b94d3809dccae48e9194e5547906d4b14373217b911e61/ir_datasets-0.2.0-py3-none-any.whl (131kB)\n",
            "\u001b[K     |████████████████████████████████| 133kB 47.5MB/s \n",
            "\u001b[?25hRequirement already satisfied: python-dateutil>=2.7.3 in /usr/local/lib/python3.7/dist-packages (from pandas->python-terrier) (2.8.1)\n",
            "Requirement already satisfied: pytz>=2017.2 in /usr/local/lib/python3.7/dist-packages (from pandas->python-terrier) (2018.9)\n",
            "Requirement already satisfied: six>=1.7.0 in /usr/local/lib/python3.7/dist-packages (from pyjnius~=1.3.0->python-terrier) (1.15.0)\n",
            "Requirement already satisfied: cython in /usr/local/lib/python3.7/dist-packages (from pyjnius~=1.3.0->python-terrier) (0.29.22)\n",
            "Collecting multiset<3.0,>=2.0\n",
            "  Downloading https://files.pythonhosted.org/packages/a8/12/813a649f5bc9801865dc6cda95b8f169f784d996322db192907ebe399064/multiset-2.1.1-py2.py3-none-any.whl\n",
            "Requirement already satisfied: scikit-learn in /usr/local/lib/python3.7/dist-packages (from sklearn->python-terrier) (0.22.2.post1)\n",
            "Requirement already satisfied: packaging in /usr/local/lib/python3.7/dist-packages (from deprecation->python-terrier) (20.9)\n",
            "Requirement already satisfied: heapdict in /usr/local/lib/python3.7/dist-packages (from chest->python-terrier) (1.0.1)\n",
            "Requirement already satisfied: chardet<4,>=3.0.2 in /usr/local/lib/python3.7/dist-packages (from requests->python-terrier) (3.0.4)\n",
            "Requirement already satisfied: idna<3,>=2.5 in /usr/local/lib/python3.7/dist-packages (from requests->python-terrier) (2.10)\n",
            "Requirement already satisfied: certifi>=2017.4.17 in /usr/local/lib/python3.7/dist-packages (from requests->python-terrier) (2020.12.5)\n",
            "Requirement already satisfied: urllib3!=1.25.0,!=1.25.1,<1.26,>=1.21.1 in /usr/local/lib/python3.7/dist-packages (from requests->python-terrier) (1.24.3)\n",
            "Collecting typish>=1.7.0\n",
            "\u001b[?25l  Downloading https://files.pythonhosted.org/packages/48/10/84e80246203f017fd27559b49557753d96cee860754247b7b023fd03d236/typish-1.9.1-py3-none-any.whl (44kB)\n",
            "\u001b[K     |████████████████████████████████| 51kB 4.8MB/s \n",
            "\u001b[?25hRequirement already satisfied: MarkupSafe>=0.23 in /usr/local/lib/python3.7/dist-packages (from jinja2->python-terrier) (1.1.1)\n",
            "Requirement already satisfied: sphinx in /usr/local/lib/python3.7/dist-packages (from sphinx_rtd_theme->python-terrier) (1.8.5)\n",
            "Collecting mdit-py-plugins~=0.2.5\n",
            "  Downloading https://files.pythonhosted.org/packages/66/62/fae9ee5766a7153d571ad732ef514c552efeaa31735fd60e6d9bc07fa9e4/mdit_py_plugins-0.2.5-py3-none-any.whl\n",
            "Requirement already satisfied: docutils>=0.15 in /usr/local/lib/python3.7/dist-packages (from myst_parser->python-terrier) (0.16)\n",
            "Collecting markdown-it-py~=0.6.2\n",
            "\u001b[?25l  Downloading https://files.pythonhosted.org/packages/2e/cb/8493188845d26599170268bb0e0a63e75584d5e7f130488c641e96449cd7/markdown_it_py-0.6.2-py3-none-any.whl (81kB)\n",
            "\u001b[K     |████████████████████████████████| 81kB 6.6MB/s \n",
            "\u001b[?25hRequirement already satisfied: pyyaml in /usr/local/lib/python3.7/dist-packages (from myst_parser->python-terrier) (3.13)\n",
            "Collecting zlib-state>=0.1.3\n",
            "\u001b[?25l  Downloading https://files.pythonhosted.org/packages/69/05/95df36be761a5ff85a39b438d87937f02762c19fea95c0f10b679a259f14/zlib_state-0.1.3-cp37-cp37m-manylinux2010_x86_64.whl (72kB)\n",
            "\u001b[K     |████████████████████████████████| 81kB 6.6MB/s \n",
            "\u001b[?25hCollecting warc3-wet>=0.2.3\n",
            "  Downloading https://files.pythonhosted.org/packages/78/de/017a6bc2e3ba1ad912a08501f58414dd9e8503da1d6239aad548631777ad/warc3_wet-0.2.3-py3-none-any.whl\n",
            "Collecting trec-car-tools>=2.5.3\n",
            "  Downloading https://files.pythonhosted.org/packages/43/ed/aa3fe2ece015580bf03c48c765121861b9121fbeb2973b6b09be9e6de993/trec_car_tools-2.5.3-py3-none-any.whl\n",
            "Collecting warc3-wet-clueweb09>=0.2.5\n",
            "  Downloading https://files.pythonhosted.org/packages/9f/c1/dd817bf57e0274dacb10e0ac868cb6cd70876950cf361c41879c030a2b8b/warc3-wet-clueweb09-0.2.5.tar.gz\n",
            "Requirement already satisfied: beautifulsoup4>=4.4.1 in /usr/local/lib/python3.7/dist-packages (from ir_datasets>=0.2.0->python-terrier) (4.6.3)\n",
            "Collecting lz4>=3.1.1\n",
            "\u001b[?25l  Downloading https://files.pythonhosted.org/packages/e3/52/151c815a486290608e4dc6699a0cfd74141dc5191f8fe928e7d1b28b569e/lz4-3.1.3-cp37-cp37m-manylinux2010_x86_64.whl (1.8MB)\n",
            "\u001b[K     |████████████████████████████████| 1.8MB 43.9MB/s \n",
            "\u001b[?25hCollecting lxml>=4.5.2\n",
            "\u001b[?25l  Downloading https://files.pythonhosted.org/packages/d2/88/b25778f17e5320c1c58f8c5060fb5b037288e162bd7554c30799e9ea90db/lxml-4.6.2-cp37-cp37m-manylinux1_x86_64.whl (5.5MB)\n",
            "\u001b[K     |████████████████████████████████| 5.5MB 48.4MB/s \n",
            "\u001b[?25hRequirement already satisfied: joblib>=0.11 in /usr/local/lib/python3.7/dist-packages (from scikit-learn->sklearn->python-terrier) (1.0.1)\n",
            "Requirement already satisfied: pyparsing>=2.0.2 in /usr/local/lib/python3.7/dist-packages (from packaging->deprecation->python-terrier) (2.4.7)\n",
            "Requirement already satisfied: alabaster<0.8,>=0.7 in /usr/local/lib/python3.7/dist-packages (from sphinx->sphinx_rtd_theme->python-terrier) (0.7.12)\n",
            "Requirement already satisfied: setuptools in /usr/local/lib/python3.7/dist-packages (from sphinx->sphinx_rtd_theme->python-terrier) (53.0.0)\n",
            "Requirement already satisfied: snowballstemmer>=1.1 in /usr/local/lib/python3.7/dist-packages (from sphinx->sphinx_rtd_theme->python-terrier) (2.1.0)\n",
            "Requirement already satisfied: sphinxcontrib-websupport in /usr/local/lib/python3.7/dist-packages (from sphinx->sphinx_rtd_theme->python-terrier) (1.2.4)\n",
            "Requirement already satisfied: Pygments>=2.0 in /usr/local/lib/python3.7/dist-packages (from sphinx->sphinx_rtd_theme->python-terrier) (2.6.1)\n",
            "Requirement already satisfied: imagesize in /usr/local/lib/python3.7/dist-packages (from sphinx->sphinx_rtd_theme->python-terrier) (1.2.0)\n",
            "Requirement already satisfied: babel!=2.0,>=1.3 in /usr/local/lib/python3.7/dist-packages (from sphinx->sphinx_rtd_theme->python-terrier) (2.9.0)\n",
            "Requirement already satisfied: attrs<21,>=19 in /usr/local/lib/python3.7/dist-packages (from markdown-it-py~=0.6.2->myst_parser->python-terrier) (20.3.0)\n",
            "Collecting cbor>=1.0.0\n",
            "  Downloading https://files.pythonhosted.org/packages/9b/99/01c6a987c920500189eb74a291bd3a388e6c7cf85736bb6b066d9833315e/cbor-1.0.0.tar.gz\n",
            "Collecting typing>=3.6.2\n",
            "\u001b[?25l  Downloading https://files.pythonhosted.org/packages/05/d9/6eebe19d46bd05360c9a9aae822e67a80f9242aabbfc58b641b957546607/typing-3.7.4.3.tar.gz (78kB)\n",
            "\u001b[K     |████████████████████████████████| 81kB 7.0MB/s \n",
            "\u001b[?25hRequirement already satisfied: sphinxcontrib-serializinghtml in /usr/local/lib/python3.7/dist-packages (from sphinxcontrib-websupport->sphinx->sphinx_rtd_theme->python-terrier) (1.1.4)\n",
            "Building wheels for collected packages: python-terrier, wget, pytrec-eval, chest, warc3-wet-clueweb09, cbor, typing\n",
            "  Building wheel for python-terrier (setup.py) ... \u001b[?25l\u001b[?25hdone\n",
            "  Created wheel for python-terrier: filename=python_terrier-0.4.0-cp37-none-any.whl size=76208 sha256=cdba06f2f5435f582c2b3cc70feb75cdd4911dc15e1d45c5dc61ff93d8380534\n",
            "  Stored in directory: /root/.cache/pip/wheels/1a/08/00/1eb79fd13e6095132bf00bd92f803e90797813f40429485461\n",
            "  Building wheel for wget (setup.py) ... \u001b[?25l\u001b[?25hdone\n",
            "  Created wheel for wget: filename=wget-3.2-cp37-none-any.whl size=9681 sha256=f6146f9833d6bc41ee6def073115ebd0228f2a659f20d369e6390f7f5fbbe8da\n",
            "  Stored in directory: /root/.cache/pip/wheels/40/15/30/7d8f7cea2902b4db79e3fea550d7d7b85ecb27ef992b618f3f\n",
            "  Building wheel for pytrec-eval (setup.py) ... \u001b[?25l\u001b[?25hdone\n",
            "  Created wheel for pytrec-eval: filename=pytrec_eval-0.5-cp37-cp37m-linux_x86_64.whl size=264102 sha256=995f38993a62411d54b8ed49d421c37e2c29fd61c09bca1ed3953640e0a0220d\n",
            "  Stored in directory: /root/.cache/pip/wheels/55/66/40/1779aa0a8eb66e088669befe286f695cdfe420ba91ce662127\n",
            "  Building wheel for chest (setup.py) ... \u001b[?25l\u001b[?25hdone\n",
            "  Created wheel for chest: filename=chest-0.2.3-cp37-none-any.whl size=7623 sha256=1ab0a2fd6c8c09e2e4833bd97a439c50185a5dc1df6ed88a95ca295d3bdffeed\n",
            "  Stored in directory: /root/.cache/pip/wheels/f9/52/97/3f0eb272609dc1b7a20fb678a45003301b51f03cf766f6237f\n",
            "  Building wheel for warc3-wet-clueweb09 (setup.py) ... \u001b[?25l\u001b[?25hdone\n",
            "  Created wheel for warc3-wet-clueweb09: filename=warc3_wet_clueweb09-0.2.5-cp37-none-any.whl size=18909 sha256=42ba548992cf609517eb844199134ceed3fa985284d84eada798ad4c2d3c65b1\n",
            "  Stored in directory: /root/.cache/pip/wheels/09/da/a9/ec9816edf7f789eab3fea2e57abe37bf7d6ab65f8ef8ee7f31\n",
            "  Building wheel for cbor (setup.py) ... \u001b[?25l\u001b[?25hdone\n",
            "  Created wheel for cbor: filename=cbor-1.0.0-cp37-cp37m-linux_x86_64.whl size=51268 sha256=e01ccbd1e9a3dad93798614191e393ce2f1918b691ab0cb00ba46d0ae6491bbc\n",
            "  Stored in directory: /root/.cache/pip/wheels/40/5c/a5/e6d629446a6a687ba328c55f1589234c29b99ef35b1a65dbaa\n",
            "  Building wheel for typing (setup.py) ... \u001b[?25l\u001b[?25hdone\n",
            "  Created wheel for typing: filename=typing-3.7.4.3-cp37-none-any.whl size=26308 sha256=7096f7a39bde2cd1a77e02d9f7d62e9d6324b83623cd2dce527c0f0a2d61cae7\n",
            "  Stored in directory: /root/.cache/pip/wheels/2d/04/41/8e1836e79581989c22eebac3f4e70aaac9af07b0908da173be\n",
            "Successfully built python-terrier wget pytrec-eval chest warc3-wet-clueweb09 cbor typing\n",
            "\u001b[31mERROR: myst-parser 0.13.5 has requirement sphinx<4,>=2, but you'll have sphinx 1.8.5 which is incompatible.\u001b[0m\n",
            "\u001b[31mERROR: ir-datasets 0.2.0 has requirement pyyaml>=5.3.1, but you'll have pyyaml 3.13 which is incompatible.\u001b[0m\n",
            "Installing collected packages: wget, pytrec-eval, pyjnius, multiset, matchpy, deprecation, chest, typish, nptyping, sphinx-rtd-theme, markdown-it-py, mdit-py-plugins, myst-parser, zlib-state, warc3-wet, cbor, typing, trec-car-tools, warc3-wet-clueweb09, lz4, lxml, ir-datasets, python-terrier\n",
            "  Found existing installation: lxml 4.2.6\n",
            "    Uninstalling lxml-4.2.6:\n",
            "      Successfully uninstalled lxml-4.2.6\n",
            "Successfully installed cbor-1.0.0 chest-0.2.3 deprecation-2.1.0 ir-datasets-0.2.0 lxml-4.6.2 lz4-3.1.3 markdown-it-py-0.6.2 matchpy-0.5.4 mdit-py-plugins-0.2.5 multiset-2.1.1 myst-parser-0.13.5 nptyping-1.4.0 pyjnius-1.3.0 python-terrier-0.4.0 pytrec-eval-0.5 sphinx-rtd-theme-0.5.1 trec-car-tools-2.5.3 typing-3.7.4.3 typish-1.9.1 warc3-wet-0.2.3 warc3-wet-clueweb09-0.2.5 wget-3.2 zlib-state-0.1.3\n"
          ],
          "name": "stdout"
        },
        {
          "output_type": "display_data",
          "data": {
            "application/vnd.colab-display-data+json": {
              "pip_warning": {
                "packages": [
                  "typing"
                ]
              }
            }
          },
          "metadata": {
            "tags": []
          }
        },
        {
          "output_type": "stream",
          "text": [
            "Requirement already satisfied: ir_datasets in /usr/local/lib/python3.7/dist-packages (0.2.0)\n",
            "Collecting pyyaml>=5.3.1\n",
            "\u001b[?25l  Downloading https://files.pythonhosted.org/packages/7a/a5/393c087efdc78091afa2af9f1378762f9821c9c1d7a22c5753fb5ac5f97a/PyYAML-5.4.1-cp37-cp37m-manylinux1_x86_64.whl (636kB)\n",
            "\u001b[K     |████████████████████████████████| 645kB 11.2MB/s \n",
            "\u001b[?25hRequirement already satisfied: lxml>=4.5.2 in /usr/local/lib/python3.7/dist-packages (from ir_datasets) (4.6.2)\n",
            "Requirement already satisfied: warc3-wet>=0.2.3 in /usr/local/lib/python3.7/dist-packages (from ir_datasets) (0.2.3)\n",
            "Requirement already satisfied: beautifulsoup4>=4.4.1 in /usr/local/lib/python3.7/dist-packages (from ir_datasets) (4.6.3)\n",
            "Requirement already satisfied: lz4>=3.1.1 in /usr/local/lib/python3.7/dist-packages (from ir_datasets) (3.1.3)\n",
            "Requirement already satisfied: numpy>=1.18.1 in /usr/local/lib/python3.7/dist-packages (from ir_datasets) (1.19.5)\n",
            "Requirement already satisfied: tqdm>=4.38.0 in /usr/local/lib/python3.7/dist-packages (from ir_datasets) (4.41.1)\n",
            "Requirement already satisfied: requests>=2.22.0 in /usr/local/lib/python3.7/dist-packages (from ir_datasets) (2.23.0)\n",
            "Requirement already satisfied: warc3-wet-clueweb09>=0.2.5 in /usr/local/lib/python3.7/dist-packages (from ir_datasets) (0.2.5)\n",
            "Requirement already satisfied: trec-car-tools>=2.5.3 in /usr/local/lib/python3.7/dist-packages (from ir_datasets) (2.5.3)\n",
            "Requirement already satisfied: zlib-state>=0.1.3 in /usr/local/lib/python3.7/dist-packages (from ir_datasets) (0.1.3)\n",
            "Requirement already satisfied: urllib3!=1.25.0,!=1.25.1,<1.26,>=1.21.1 in /usr/local/lib/python3.7/dist-packages (from requests>=2.22.0->ir_datasets) (1.24.3)\n",
            "Requirement already satisfied: certifi>=2017.4.17 in /usr/local/lib/python3.7/dist-packages (from requests>=2.22.0->ir_datasets) (2020.12.5)\n",
            "Requirement already satisfied: idna<3,>=2.5 in /usr/local/lib/python3.7/dist-packages (from requests>=2.22.0->ir_datasets) (2.10)\n",
            "Requirement already satisfied: chardet<4,>=3.0.2 in /usr/local/lib/python3.7/dist-packages (from requests>=2.22.0->ir_datasets) (3.0.4)\n",
            "Requirement already satisfied: cbor>=1.0.0 in /usr/local/lib/python3.7/dist-packages (from trec-car-tools>=2.5.3->ir_datasets) (1.0.0)\n",
            "Requirement already satisfied: typing>=3.6.2 in /usr/local/lib/python3.7/dist-packages (from trec-car-tools>=2.5.3->ir_datasets) (3.7.4.3)\n",
            "\u001b[31mERROR: myst-parser 0.13.5 has requirement sphinx<4,>=2, but you'll have sphinx 1.8.5 which is incompatible.\u001b[0m\n",
            "Installing collected packages: pyyaml\n",
            "  Found existing installation: PyYAML 3.13\n",
            "    Uninstalling PyYAML-3.13:\n",
            "      Successfully uninstalled PyYAML-3.13\n",
            "Successfully installed pyyaml-5.4.1\n"
          ],
          "name": "stdout"
        }
      ]
    },
    {
      "cell_type": "code",
      "metadata": {
        "id": "8a-dMBGlWLKp"
      },
      "source": [
        "from sklearn.ensemble import RandomForestRegressor\r\n",
        "import lightgbm as lgb"
      ],
      "execution_count": 3,
      "outputs": []
    },
    {
      "cell_type": "markdown",
      "metadata": {
        "id": "oWL0lKDKUHzx"
      },
      "source": [
        "# Data and Indexing"
      ]
    },
    {
      "cell_type": "code",
      "metadata": {
        "colab": {
          "base_uri": "https://localhost:8080/"
        },
        "id": "1PprJRnIaCmW",
        "outputId": "b98041cd-8ec9-402f-d361-1874c6d4b377"
      },
      "source": [
        "import pyterrier as pt\r\n",
        "pt.init()"
      ],
      "execution_count": 4,
      "outputs": [
        {
          "output_type": "stream",
          "text": [
            "/usr/local/lib/python3.7/dist-packages/tqdm/std.py:658: FutureWarning: The Panel class is removed from pandas. Accessing it from the top-level namespace will also be removed in the next version\n",
            "  from pandas import Panel\n"
          ],
          "name": "stderr"
        },
        {
          "output_type": "stream",
          "text": [
            "terrier-assemblies 5.4  jar-with-dependencies not found, downloading to /root/.pyterrier...\n",
            "Done\n",
            "terrier-python-helper 0.0.5  jar not found, downloading to /root/.pyterrier...\n",
            "Done\n",
            "PyTerrier 0.4.0 has loaded Terrier 5.4 (built by craigm on 2021-01-16 14:17)\n"
          ],
          "name": "stdout"
        }
      ]
    },
    {
      "cell_type": "code",
      "metadata": {
        "id": "cxVGKg64S7P_"
      },
      "source": [
        "dataset = pt.get_dataset(\"trec-deep-learning-passages\")\r\n",
        "def msmarco_generate():\r\n",
        "    with pt.io.autoopen(dataset.get_corpus()[0], 'rt') as corpusfile:\r\n",
        "        for l in corpusfile:\r\n",
        "            docno, passage = l.split(\"\\t\")\r\n",
        "            yield {'docno' : docno, 'text' : passage}"
      ],
      "execution_count": 5,
      "outputs": []
    },
    {
      "cell_type": "code",
      "metadata": {
        "colab": {
          "base_uri": "https://localhost:8080/"
        },
        "id": "5yT4WsNwTCey",
        "outputId": "496fe200-e003-4116-9fb7-ca411315c5b2"
      },
      "source": [
        "iter_indexer = pt.IterDictIndexer(\"./passage_index\")\r\n",
        "indexref = iter_indexer.index(msmarco_generate(), meta={'docno' : 20, 'text': 4096})"
      ],
      "execution_count": 6,
      "outputs": [
        {
          "output_type": "stream",
          "text": [
            "Downloading trec-deep-learning-passages corpus to /root/.pyterrier/corpora/trec-deep-learning-passages/corpus\n",
            "Downloading trec-deep-learning-passages tars to /root/.pyterrier/corpora/trec-deep-learning-passages/collection.tar.gz\n"
          ],
          "name": "stdout"
        },
        {
          "output_type": "stream",
          "text": [
            "collection.tar.gz: 100%|██████████| 987M/987M [10:51<00:00, 1.59MiB/s]\n"
          ],
          "name": "stderr"
        },
        {
          "output_type": "stream",
          "text": [
            "09:50:27.499 [ForkJoinPool-1-worker-3] WARN  o.t.structures.indexing.Indexer - Adding an empty document to the index (500080) - further warnings are suppressed\n",
            "10:22:44.756 [ForkJoinPool-1-worker-3] WARN  o.t.structures.indexing.Indexer - Indexed 5 empty documents\n"
          ],
          "name": "stdout"
        }
      ]
    },
    {
      "cell_type": "code",
      "metadata": {
        "id": "d5dgXL8XTfAy"
      },
      "source": [
        "index = pt.IndexFactory.of(indexref)"
      ],
      "execution_count": 7,
      "outputs": []
    },
    {
      "cell_type": "markdown",
      "metadata": {
        "id": "X34aLL3qURa_"
      },
      "source": [
        "# Experiments with Prob. Models and LTR"
      ]
    },
    {
      "cell_type": "markdown",
      "metadata": {
        "id": "NkjmnyflVWFJ"
      },
      "source": [
        "**Prob Models**"
      ]
    },
    {
      "cell_type": "code",
      "metadata": {
        "id": "NdkNkqfKVSXh"
      },
      "source": [
        ""
      ],
      "execution_count": null,
      "outputs": []
    },
    {
      "cell_type": "code",
      "metadata": {
        "id": "lOjvJcwQU5vQ"
      },
      "source": [
        "tf_idf = pt.BatchRetrieve(index, wmodel=\"TF_IDF\")\r\n",
        "bm25 = pt.BatchRetrieve(index, wmodel=\"BM25\")\r\n",
        "DPH_br = pt.BatchRetrieve(index, wmodel=\"DPH\") "
      ],
      "execution_count": 8,
      "outputs": []
    },
    {
      "cell_type": "code",
      "metadata": {
        "colab": {
          "base_uri": "https://localhost:8080/",
          "height": 247
        },
        "id": "wA4CraYKLlkY",
        "outputId": "44b99566-8135-4fa4-a5bc-cb0882745e02"
      },
      "source": [
        "pt.Experiment(\r\n",
        "    [tf_idf, bm25, DPH_br],\r\n",
        "    dataset.get_topics('test-2019'),\r\n",
        "    dataset.get_qrels('test-2019'),\r\n",
        "    eval_metrics=[\"map\", \"recip_rank\", \"ndcg\"],\r\n",
        "    names = ['TF_IDF', 'BM25', 'DPH']\r\n",
        ")"
      ],
      "execution_count": 9,
      "outputs": [
        {
          "output_type": "stream",
          "text": [
            "Downloading trec-deep-learning-passages topics to /root/.pyterrier/corpora/trec-deep-learning-passages/msmarco-test2019-queries.tsv.gz\n"
          ],
          "name": "stdout"
        },
        {
          "output_type": "stream",
          "text": [
            "msmarco-test2019-queries.tsv.gz: 100%|██████████| 4.18k/4.18k [00:00<00:00, 1.61MiB/s]\n"
          ],
          "name": "stderr"
        },
        {
          "output_type": "stream",
          "text": [
            "Downloading trec-deep-learning-passages qrels to /root/.pyterrier/corpora/trec-deep-learning-passages/2019qrels-docs.txt\n"
          ],
          "name": "stdout"
        },
        {
          "output_type": "stream",
          "text": [
            "2019qrels-docs.txt: 100%|██████████| 183k/183k [00:00<00:00, 712kiB/s] \n"
          ],
          "name": "stderr"
        },
        {
          "output_type": "stream",
          "text": [
            "10:31:49.959 [main] WARN  o.t.structures.CompressingMetaIndex - Structure meta reading data file directly from disk (SLOW) - try index.meta.data-source=fileinmem in the index properties file. 2.2 GiB of memory would be required.\n"
          ],
          "name": "stdout"
        },
        {
          "output_type": "execute_result",
          "data": {
            "text/html": [
              "<div>\n",
              "<style scoped>\n",
              "    .dataframe tbody tr th:only-of-type {\n",
              "        vertical-align: middle;\n",
              "    }\n",
              "\n",
              "    .dataframe tbody tr th {\n",
              "        vertical-align: top;\n",
              "    }\n",
              "\n",
              "    .dataframe thead th {\n",
              "        text-align: right;\n",
              "    }\n",
              "</style>\n",
              "<table border=\"1\" class=\"dataframe\">\n",
              "  <thead>\n",
              "    <tr style=\"text-align: right;\">\n",
              "      <th></th>\n",
              "      <th>name</th>\n",
              "      <th>map</th>\n",
              "      <th>recip_rank</th>\n",
              "      <th>ndcg</th>\n",
              "    </tr>\n",
              "  </thead>\n",
              "  <tbody>\n",
              "    <tr>\n",
              "      <th>0</th>\n",
              "      <td>TF_IDF</td>\n",
              "      <td>0.369486</td>\n",
              "      <td>0.795028</td>\n",
              "      <td>0.593198</td>\n",
              "    </tr>\n",
              "    <tr>\n",
              "      <th>1</th>\n",
              "      <td>BM25</td>\n",
              "      <td>0.370004</td>\n",
              "      <td>0.795028</td>\n",
              "      <td>0.593433</td>\n",
              "    </tr>\n",
              "    <tr>\n",
              "      <th>2</th>\n",
              "      <td>DPH</td>\n",
              "      <td>0.372805</td>\n",
              "      <td>0.799962</td>\n",
              "      <td>0.590368</td>\n",
              "    </tr>\n",
              "  </tbody>\n",
              "</table>\n",
              "</div>"
            ],
            "text/plain": [
              "     name       map  recip_rank      ndcg\n",
              "0  TF_IDF  0.369486    0.795028  0.593198\n",
              "1    BM25  0.370004    0.795028  0.593433\n",
              "2     DPH  0.372805    0.799962  0.590368"
            ]
          },
          "metadata": {
            "tags": []
          },
          "execution_count": 9
        }
      ]
    },
    {
      "cell_type": "code",
      "metadata": {
        "id": "wnsvvcgQVaIh"
      },
      "source": [
        ""
      ],
      "execution_count": null,
      "outputs": []
    },
    {
      "cell_type": "markdown",
      "metadata": {
        "id": "neGuAiCpVbCi"
      },
      "source": [
        "**LTR**"
      ]
    },
    {
      "cell_type": "code",
      "metadata": {
        "id": "MJsnpsmHVfFD"
      },
      "source": [
        "pipeline = pt.FeaturesBatchRetrieve(index, wmodel=\"BM25\",\r\n",
        "  features=[\"SAMPLE\", \"WMODEL:TF_IDF\", \"WMODEL:PL2\", \"WMODEL:IFB2\", \"WMODEL:Hiemstra_LM\", \"WMODEL:LGD\", \"WMODEL:DPH\", \"WMODEL:In_expC2\", \"WMODEL:ML2\"])"
      ],
      "execution_count": 10,
      "outputs": []
    },
    {
      "cell_type": "code",
      "metadata": {
        "colab": {
          "base_uri": "https://localhost:8080/"
        },
        "id": "IYYFu2CDWG10",
        "outputId": "820e01ff-27ec-4d61-855f-b98fd94f03a0"
      },
      "source": [
        "train_topics = dataset.get_topics('train')\r\n",
        "train_qrels = dataset.get_qrels('train')\r\n",
        "test_topics = dataset.get_topics('test-2019')\r\n",
        "test_qrels = dataset.get_qrels('test-2019')"
      ],
      "execution_count": 11,
      "outputs": [
        {
          "output_type": "stream",
          "text": [
            "Downloading trec-deep-learning-passages tars to /root/.pyterrier/corpora/trec-deep-learning-passages/queries.tar.gz\n"
          ],
          "name": "stdout"
        },
        {
          "output_type": "stream",
          "text": [
            "queries.tar.gz: 100%|██████████| 18.0M/18.0M [00:04<00:00, 3.98MiB/s]\n"
          ],
          "name": "stderr"
        },
        {
          "output_type": "stream",
          "text": [
            "Downloading trec-deep-learning-passages qrels to /root/.pyterrier/corpora/trec-deep-learning-passages/qrels.train.tsv\n"
          ],
          "name": "stdout"
        },
        {
          "output_type": "stream",
          "text": [
            "qrels.train.tsv: 100%|██████████| 10.1M/10.1M [00:06<00:00, 1.64MiB/s]\n"
          ],
          "name": "stderr"
        }
      ]
    },
    {
      "cell_type": "code",
      "metadata": {
        "colab": {
          "base_uri": "https://localhost:8080/"
        },
        "id": "XIPGNzuiWNme",
        "outputId": "3f800e12-0a88-42f1-d099-e2bd047bf211"
      },
      "source": [
        "rf = RandomForestRegressor(n_estimators=400)\r\n",
        "ltr = pipeline >> pt.ltr.apply_learned_model(rf)\r\n",
        "ltr.fit(dataset.get_topics('train'), dataset.get_qrels('train'))"
      ],
      "execution_count": null,
      "outputs": [
        {
          "output_type": "stream",
          "text": [
            "Downloading trec-deep-learning-passages tars to /root/.pyterrier/corpora/trec-deep-learning-passages/queries.tar.gz\n"
          ],
          "name": "stdout"
        },
        {
          "output_type": "stream",
          "text": [
            "queries.tar.gz: 100%|██████████| 18.0M/18.0M [00:01<00:00, 15.4MiB/s]\n",
            "qrels.train.tsv:   0%|          | 0.00/10.1M [00:00<?, ?iB/s]"
          ],
          "name": "stderr"
        },
        {
          "output_type": "stream",
          "text": [
            "Downloading trec-deep-learning-passages qrels to /root/.pyterrier/corpora/trec-deep-learning-passages/qrels.train.tsv\n"
          ],
          "name": "stdout"
        },
        {
          "output_type": "stream",
          "text": [
            "qrels.train.tsv: 100%|██████████| 10.1M/10.1M [00:01<00:00, 9.72MiB/s]\n"
          ],
          "name": "stderr"
        }
      ]
    },
    {
      "cell_type": "code",
      "metadata": {
        "colab": {
          "base_uri": "https://localhost:8080/"
        },
        "id": "lSblGJJWWryI",
        "outputId": "147ff678-db0f-4094-b0d0-d7537a0fbaef"
      },
      "source": [
        "pt.Experiment([bm25, tf_idf, ltr, DPH_br], dataset.get_topics('test-2019'),\r\n",
        "    dataset.get_qrels('test-2019'), eval_metrics=[\"trec_eval\"], names=[\"BM25 Baseline\", \"TF_IDF\", \"LTR\", \"DPH\"])"
      ],
      "execution_count": null,
      "outputs": [
        {
          "output_type": "error",
          "ename": "NameError",
          "evalue": "ignored",
          "traceback": [
            "\u001b[0;31m---------------------------------------------------------------------------\u001b[0m",
            "\u001b[0;31mNameError\u001b[0m                                 Traceback (most recent call last)",
            "\u001b[0;32m<ipython-input-1-15afb619e2e8>\u001b[0m in \u001b[0;36m<module>\u001b[0;34m()\u001b[0m\n\u001b[0;32m----> 1\u001b[0;31m pt.Experiment([bm25, tf_idf, ltr, DPH_br], dataset.get_topics('test-2019'),\n\u001b[0m\u001b[1;32m      2\u001b[0m     dataset.get_qrels('test-2019'), eval_metrics=[\"trec_eval\"], names=[\"BM25 Baseline\", \"TF_IDF\", \"LTR\", \"DPH\"])\n",
            "\u001b[0;31mNameError\u001b[0m: name 'pt' is not defined"
          ]
        }
      ]
    },
    {
      "cell_type": "code",
      "metadata": {
        "id": "HV_D9XN2Jr4f"
      },
      "source": [
        "lmart = lgb.LGBMRanker(task=\"train\",\r\n",
        "    min_data_in_leaf=1,\r\n",
        "    min_sum_hessian_in_leaf=100,\r\n",
        "    max_bin=255,\r\n",
        "    num_leaves=7,\r\n",
        "    objective=\"lambdarank\",\r\n",
        "    metric=\"ndcg\",\r\n",
        "    #ndcg_eval_at=[1, 3, 5, 10],\r\n",
        "    learning_rate= .1,\r\n",
        "    importance_type=\"gain\",\r\n",
        "    num_iterations=10)\r\n",
        "lmart_ltr = pipeline >> pt.ltr.apply_learned_model(lmart, form=\"ltr\")\r\n",
        "lmart_ltr.fit(train_topics, train_qrels)"
      ],
      "execution_count": null,
      "outputs": []
    },
    {
      "cell_type": "code",
      "metadata": {
        "id": "C-ny2Nl_KAB9"
      },
      "source": [
        "pt.Experiment([bm25, tf_idf, lmart_ltr, DPH_br], dataset.get_topics('test-2019'),\r\n",
        "    dataset.get_qrels('test-2019'), eval_metrics=[\"trec_eval\"], names=[\"BM25 Baseline\", \"TF_IDF\", \"Lmart_LTR\", \"DPH\"])"
      ],
      "execution_count": null,
      "outputs": []
    }
  ]
}